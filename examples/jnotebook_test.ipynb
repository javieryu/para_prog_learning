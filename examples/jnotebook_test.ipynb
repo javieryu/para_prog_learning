{
 "metadata": {
  "language_info": {
   "codemirror_mode": {
    "name": "ipython",
    "version": 3
   },
   "file_extension": ".py",
   "mimetype": "text/x-python",
   "name": "python",
   "nbconvert_exporter": "python",
   "pygments_lexer": "ipython3",
   "version": "3.8.3-final"
  },
  "orig_nbformat": 2,
  "kernelspec": {
   "name": "python3",
   "display_name": "Python 3.8.3 64-bit ('venv')",
   "metadata": {
    "interpreter": {
     "hash": "c1fe9593d27870d231fe1da4a80aa11de54923dcde2f41fcae4a2d40a3260c02"
    }
   }
  }
 },
 "nbformat": 4,
 "nbformat_minor": 2,
 "cells": [
  {
   "cell_type": "code",
   "execution_count": 10,
   "metadata": {},
   "outputs": [],
   "source": [
    "# Regular Imports\n",
    "import torch\n",
    "import matplotlib.pyplot as plt\n",
    "\n",
    "# Local Imports\n",
    "import sys\n",
    "sys.path.insert(0, '..')\n",
    "from relu_nn.relu_nn import FFReLUNet"
   ]
  },
  {
   "cell_type": "code",
   "execution_count": null,
   "metadata": {},
   "outputs": [],
   "source": []
  }
 ]
}